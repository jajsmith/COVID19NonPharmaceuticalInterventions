{
 "cells": [
  {
   "cell_type": "code",
   "execution_count": 58,
   "metadata": {},
   "outputs": [
    {
     "name": "stdout",
     "output_type": "stream",
     "text": [
      "Requirement already satisfied: bs4 in /usr/local/lib/python3.6/dist-packages (0.0.1)\n",
      "Requirement already satisfied: beautifulsoup4 in /usr/local/lib/python3.6/dist-packages (from bs4) (4.9.0)\n",
      "Requirement already satisfied: soupsieve>1.2 in /usr/local/lib/python3.6/dist-packages (from beautifulsoup4->bs4) (2.0)\n",
      "\u001b[33mYou are using pip version 10.0.1, however version 20.1b1 is available.\n",
      "You should consider upgrading via the 'pip install --upgrade pip' command.\u001b[0m\n"
     ]
    }
   ],
   "source": [
    "!pip install bs4"
   ]
  },
  {
   "cell_type": "code",
   "execution_count": 59,
   "metadata": {},
   "outputs": [],
   "source": [
    "import requests\n",
    "import urllib.request\n",
    "import datetime\n",
    "from bs4 import BeautifulSoup\n",
    "import pandas as pd\n"
   ]
  },
  {
   "cell_type": "code",
   "execution_count": 60,
   "metadata": {},
   "outputs": [],
   "source": [
    "country = 'Canada'\n",
    "src_cat = 'Government Website'\n",
    "columns = ['start_date', 'country', 'region', 'subregion', 'source_url', 'source_category', 'source_title', 'source_full_text']"
   ]
  },
  {
   "cell_type": "markdown",
   "metadata": {},
   "source": [
    "# Ontario\n",
    "\n",
    "Since Ontario shows the most recent news on the first page, the range\n",
    "will need to continue to be expanded to capture all posts. Generally ~4 pages capture ~2 weeks."
   ]
  },
  {
   "cell_type": "code",
   "execution_count": 63,
   "metadata": {},
   "outputs": [],
   "source": [
    "targets = ['https://news.ontario.ca/archive/en?page=' + str(i) for i in range(1,4)]\n",
    "\n",
    "region = 'Ontario'\n",
    "subregion = ''\n",
    "\n",
    "# Specific structure for news.contario.ca/archive\n",
    "links = []\n",
    "for target in targets:\n",
    "    if target.startswith('https://news.ontario.ca/archive/'):\n",
    "        response = requests.get(target)\n",
    "        soup = BeautifulSoup(response.text, \"html.parser\")\n",
    "        articles = soup.findAll('article')\n",
    "        \n",
    "        for article in articles:\n",
    "            smallersoup = BeautifulSoup(str(article), \"html.parser\")\n",
    "            link = smallersoup.findAll('a')[0]['href']\n",
    "            title = smallersoup.findAll('a')[0].string\n",
    "            pub_date = smallersoup.time['datetime']\n",
    "            \n",
    "            response = requests.get(link)\n",
    "            linksoup = BeautifulSoup(response.text, \"html.parser\")\n",
    "            full_text = linksoup.article.text\n",
    "            \n",
    "            row = [pub_date, country, region, subregion, link, src_cat, title, full_text]\n",
    "            links.append(row)\n",
    "            \n",
    "            # Get this link and copy full text\n"
   ]
  },
  {
   "cell_type": "code",
   "execution_count": 64,
   "metadata": {},
   "outputs": [],
   "source": [
    "df = pd.DataFrame(links, columns=columns)"
   ]
  },
  {
   "cell_type": "code",
   "execution_count": 65,
   "metadata": {},
   "outputs": [
    {
     "data": {
      "text/plain": [
       "(45, 8)"
      ]
     },
     "execution_count": 65,
     "metadata": {},
     "output_type": "execute_result"
    }
   ],
   "source": [
    "df.shape"
   ]
  },
  {
   "cell_type": "code",
   "execution_count": 66,
   "metadata": {},
   "outputs": [],
   "source": [
    "df.to_csv('sources/ontario.csv')"
   ]
  },
  {
   "cell_type": "markdown",
   "metadata": {},
   "source": [
    "# Manitoba\n",
    "\n",
    "Retrieve all news releases in 2020 for the Province of Manitoba."
   ]
  },
  {
   "cell_type": "code",
   "execution_count": 67,
   "metadata": {},
   "outputs": [],
   "source": [
    "url_base = 'https://news.gov.mb.ca'\n",
    "targets = [url_base + '/news/index.html?month=' + str(i) + '&year=2020&day=01&bgnG=GO&d=' for i in range(1,12)]\n"
   ]
  },
  {
   "cell_type": "code",
   "execution_count": 70,
   "metadata": {},
   "outputs": [
    {
     "name": "stdout",
     "output_type": "stream",
     "text": [
      "https://news.gov.mb.ca/news/index.html?month=1&year=2020&day=01&bgnG=GO&d=\n",
      "https://news.gov.mb.ca/news/index.html?month=2&year=2020&day=01&bgnG=GO&d=\n",
      "https://news.gov.mb.ca/news/index.html?month=3&year=2020&day=01&bgnG=GO&d=\n",
      "https://news.gov.mb.ca/news/index.html?month=4&year=2020&day=01&bgnG=GO&d=\n",
      "https://news.gov.mb.ca/news/index.html?month=5&year=2020&day=01&bgnG=GO&d=\n",
      "https://news.gov.mb.ca/news/index.html?month=6&year=2020&day=01&bgnG=GO&d=\n",
      "https://news.gov.mb.ca/news/index.html?month=7&year=2020&day=01&bgnG=GO&d=\n",
      "https://news.gov.mb.ca/news/index.html?month=8&year=2020&day=01&bgnG=GO&d=\n",
      "https://news.gov.mb.ca/news/index.html?month=9&year=2020&day=01&bgnG=GO&d=\n",
      "https://news.gov.mb.ca/news/index.html?month=10&year=2020&day=01&bgnG=GO&d=\n",
      "https://news.gov.mb.ca/news/index.html?month=11&year=2020&day=01&bgnG=GO&d=\n",
      "CPU times: user 13.3 s, sys: 374 ms, total: 13.7 s\n",
      "Wall time: 3min 44s\n"
     ]
    }
   ],
   "source": [
    "%%time\n",
    "\n",
    "region = 'Manitoba'\n",
    "subregion = ''\n",
    "\n",
    "links = []\n",
    "for target in targets:\n",
    "    print(target)\n",
    "    if target.startswith(url_base): #manitoba\n",
    "        response = requests.get(target)\n",
    "        soup = BeautifulSoup(response.text, \"html.parser\")\n",
    "        items = soup.findAll(\"div\", {\"class\": \"maincontent\"})\n",
    "        smallersoup = BeautifulSoup(str(items), \"html.parser\")\n",
    "        for article in smallersoup.findAll('h2'):\n",
    "            a = article.a\n",
    "            relative_link = a['href']\n",
    "            link = url_base + relative_link.split('..')[-1]\n",
    "            title = a.string\n",
    "        \n",
    "            response = requests.get(link)\n",
    "            linksoup = BeautifulSoup(response.text, \"html.parser\")\n",
    "            \n",
    "            date_text = linksoup.findAll(\"span\", {\"class\": \"article_date\"})[0].string\n",
    "            date = pd.to_datetime(date_text, format='%B %d, %Y')\n",
    "            pub_date = date.strftime('%m/%d/%Y')\n",
    "            \n",
    "            full_text = linksoup.findAll(\"div\", {\"class\": \"\"})[0].text\n",
    "\n",
    "            \n",
    "            row = [pub_date, country, region, link, src_cat, title, full_text]\n",
    "            links.append(row)\n",
    "            \n",
    "            # Get this link and copy full text"
   ]
  },
  {
   "cell_type": "code",
   "execution_count": 47,
   "metadata": {},
   "outputs": [
    {
     "data": {
      "text/plain": [
       "(260, 4)"
      ]
     },
     "execution_count": 47,
     "metadata": {},
     "output_type": "execute_result"
    }
   ],
   "source": [
    "df = pd.DataFrame(links, columns=columns)\n",
    "df.to_csv('sources/manitoba.csv')\n",
    "df.shape"
   ]
  },
  {
   "cell_type": "code",
   "execution_count": null,
   "metadata": {},
   "outputs": [],
   "source": []
  }
 ],
 "metadata": {
  "kernelspec": {
   "display_name": "Python 3",
   "language": "python",
   "name": "python3"
  },
  "language_info": {
   "codemirror_mode": {
    "name": "ipython",
    "version": 3
   },
   "file_extension": ".py",
   "mimetype": "text/x-python",
   "name": "python",
   "nbconvert_exporter": "python",
   "pygments_lexer": "ipython3",
   "version": "3.6.3"
  }
 },
 "nbformat": 4,
 "nbformat_minor": 2
}
