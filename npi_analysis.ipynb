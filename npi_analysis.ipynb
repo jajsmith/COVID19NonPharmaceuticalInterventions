{
 "cells": [
  {
   "cell_type": "code",
   "execution_count": 223,
   "metadata": {},
   "outputs": [],
   "source": [
    "import pandas as pd\n",
    "import numpy as np\n",
    "import matplotlib\n",
    "import matplotlib.pyplot as plt\n",
    "import matplotlib.patches as ptch\n",
    "\n",
    "from datetime import datetime\n",
    "import time\n",
    "from os import listdir\n",
    "from os.path import isfile, join\n",
    "import re\n",
    "\n",
    "plt.rcParams.update(plt.rcParamsDefault)"
   ]
  },
  {
   "cell_type": "code",
   "execution_count": 224,
   "metadata": {},
   "outputs": [
    {
     "name": "stdout",
     "output_type": "stream",
     "text": [
      "\u001b[33mYou are using pip version 10.0.1, however version 20.2b1 is available.\r\n",
      "You should consider upgrading via the 'pip install --upgrade pip' command.\u001b[0m\r\n"
     ]
    }
   ],
   "source": [
    "!pip freeze > requirements.txt"
   ]
  },
  {
   "cell_type": "markdown",
   "metadata": {},
   "source": [
    "# Non-Pharmaceutical Interventions in Canada\n",
    "\n",
    "Here we show comparisons of descriptive statistics for each regional and subregional-level dataset across Canada. Download individual region CSVs from the Google Sheet and place them in `./data/`. \n",
    "\n",
    "Stats Canada data on population size by province available from: \n",
    "\n",
    "Statistics Canada. Table 17-10-0009-01 Population estimates, quarterly\"\n",
    "https://www150.statcan.gc.ca/t1/tbl1/en/tv.action?pid=1710000901\n",
    "DOI: https://doi.org/10.25318/1710000901-eng\n"
   ]
  },
  {
   "cell_type": "code",
   "execution_count": 225,
   "metadata": {},
   "outputs": [],
   "source": [
    "cutoff_date = datetime(2020, 5, 17)"
   ]
  },
  {
   "cell_type": "code",
   "execution_count": 226,
   "metadata": {},
   "outputs": [],
   "source": [
    "stats_columns=[\n",
    "    'file',\n",
    "    'region',\n",
    "    'subregion', \n",
    "    'rows',\n",
    "    'columns',\n",
    "    'start_date.min', \n",
    "    'start_date.max', \n",
    "    'end_date.min', \n",
    "    'end_date.max', \n",
    "    'end_date.count / count', \n",
    "    'reviewer.unique', \n",
    "    'intervention_summary.unique', \n",
    "    'intervention_category.unique',\n",
    "    'target_population_category.unique',\n",
    "    'target_population_category (% not \"General\")',\n",
    "    'enforcement_category.unique',\n",
    "    'oxford_government_response_category.notna',\n",
    "    'oxford_government_response_category.unique',\n",
    "    'oxford_fiscal_measure_cad.sum',\n",
    "    'source_url.unique'\n",
    "]\n",
    "\n",
    "columns=[\n",
    "    'start_date',\n",
    "    'end_date',\n",
    "    'reviewer',\n",
    "    'country',\n",
    "    'region',\n",
    "    'subregion',\n",
    "    'intervention_summary',\n",
    "    'intervention_category',\n",
    "    'target_population_category',\n",
    "    'enforcement_category',\n",
    "    'oxford_government_response_category',\n",
    "    'oxford_closure_code',\n",
    "    'oxford_public_info_code',\n",
    "    'oxford_travel_code',\n",
    "    'oxford_geographic_target_code',\n",
    "    'oxford_fiscal_measure_cad',\n",
    "    'oxford_monetary_measure',\n",
    "    'oxford_testing_code',\n",
    "    'oxford_tracing_code',\n",
    "    'oxford_restriction_code',\n",
    "    'oxford_income_amount',\n",
    "    'oxford_income_target',\n",
    "    'oxford_debt_relief_code',\n",
    "    'source_url',\n",
    "    'source_organization',\n",
    "    'source_organization_2',\n",
    "    'source_category',\n",
    "    'source_title',\n",
    "    'source_full_text',\n",
    "    'note',\n",
    "    'end_source_url',\n",
    "    'end_source_organization',\n",
    "    'end_source_organization_2',\n",
    "    'end_source_category',\n",
    "    'end_source_title',\n",
    "    'end_source_full_text'\n",
    "]"
   ]
  },
  {
   "cell_type": "code",
   "execution_count": 227,
   "metadata": {},
   "outputs": [
    {
     "data": {
      "text/html": [
       "<div>\n",
       "<style scoped>\n",
       "    .dataframe tbody tr th:only-of-type {\n",
       "        vertical-align: middle;\n",
       "    }\n",
       "\n",
       "    .dataframe tbody tr th {\n",
       "        vertical-align: top;\n",
       "    }\n",
       "\n",
       "    .dataframe thead th {\n",
       "        text-align: right;\n",
       "    }\n",
       "</style>\n",
       "<table border=\"1\" class=\"dataframe\">\n",
       "  <thead>\n",
       "    <tr style=\"text-align: right;\">\n",
       "      <th></th>\n",
       "      <th>region</th>\n",
       "      <th>population_q1_2020</th>\n",
       "    </tr>\n",
       "  </thead>\n",
       "  <tbody>\n",
       "    <tr>\n",
       "      <th>0</th>\n",
       "      <td>Canada</td>\n",
       "      <td>37894799</td>\n",
       "    </tr>\n",
       "    <tr>\n",
       "      <th>1</th>\n",
       "      <td>Newfoundland and Labrador</td>\n",
       "      <td>521365</td>\n",
       "    </tr>\n",
       "    <tr>\n",
       "      <th>2</th>\n",
       "      <td>Prince Edward Island</td>\n",
       "      <td>158158</td>\n",
       "    </tr>\n",
       "    <tr>\n",
       "      <th>3</th>\n",
       "      <td>Nova Scotia</td>\n",
       "      <td>977457</td>\n",
       "    </tr>\n",
       "    <tr>\n",
       "      <th>4</th>\n",
       "      <td>New Brunswick</td>\n",
       "      <td>779993</td>\n",
       "    </tr>\n",
       "    <tr>\n",
       "      <th>5</th>\n",
       "      <td>Quebec</td>\n",
       "      <td>8537674</td>\n",
       "    </tr>\n",
       "    <tr>\n",
       "      <th>6</th>\n",
       "      <td>Ontario</td>\n",
       "      <td>14711827</td>\n",
       "    </tr>\n",
       "    <tr>\n",
       "      <th>7</th>\n",
       "      <td>Manitoba</td>\n",
       "      <td>1377517</td>\n",
       "    </tr>\n",
       "    <tr>\n",
       "      <th>8</th>\n",
       "      <td>Saskatchewan</td>\n",
       "      <td>1181666</td>\n",
       "    </tr>\n",
       "    <tr>\n",
       "      <th>9</th>\n",
       "      <td>Alberta</td>\n",
       "      <td>4413146</td>\n",
       "    </tr>\n",
       "    <tr>\n",
       "      <th>10</th>\n",
       "      <td>British Columbia</td>\n",
       "      <td>5110917</td>\n",
       "    </tr>\n",
       "    <tr>\n",
       "      <th>11</th>\n",
       "      <td>Yukon</td>\n",
       "      <td>41078</td>\n",
       "    </tr>\n",
       "    <tr>\n",
       "      <th>12</th>\n",
       "      <td>Northwest Territories</td>\n",
       "      <td>44904</td>\n",
       "    </tr>\n",
       "    <tr>\n",
       "      <th>13</th>\n",
       "      <td>Nunavut</td>\n",
       "      <td>39097</td>\n",
       "    </tr>\n",
       "  </tbody>\n",
       "</table>\n",
       "</div>"
      ],
      "text/plain": [
       "                       region  population_q1_2020\n",
       "0   Canada                     37894799          \n",
       "1   Newfoundland and Labrador  521365            \n",
       "2   Prince Edward Island       158158            \n",
       "3   Nova Scotia                977457            \n",
       "4   New Brunswick              779993            \n",
       "5   Quebec                     8537674           \n",
       "6   Ontario                    14711827          \n",
       "7   Manitoba                   1377517           \n",
       "8   Saskatchewan               1181666           \n",
       "9   Alberta                    4413146           \n",
       "10  British Columbia           5110917           \n",
       "11  Yukon                      41078             \n",
       "12  Northwest Territories      44904             \n",
       "13  Nunavut                    39097             "
      ]
     },
     "execution_count": 227,
     "metadata": {},
     "output_type": "execute_result"
    }
   ],
   "source": [
    "population_df = pd.read_csv('data/statscan-population-q.csv', thousands=',')\n",
    "population_df[['Geography', 'Q1 2020']]\n",
    "population_df['region'] = population_df['Geography']\n",
    "population_df['population_q1_2020'] = pd.to_numeric(population_df['Q1 2020'])\n",
    "population_df = population_df[['region', 'population_q1_2020']]\n",
    "population_df"
   ]
  },
  {
   "cell_type": "code",
   "execution_count": 228,
   "metadata": {},
   "outputs": [],
   "source": [
    "full_df = pd.read_csv('SCHEMA UPDATE - Collecting NPIs Effects - FULL.csv', error_bad_lines=False)\n",
    "full_df['start_date'] = pd.to_datetime(full_df['start_date'], format='%m/%d/%Y', errors='coerce')\n",
    "full_df['end_date'] = pd.to_datetime(full_df['end_date'], format='%m/%d/%Y', errors='coerce')\n",
    "full_df['oxford_fiscal_measure_cad'] = full_df['oxford_fiscal_measure_cad'].replace('[\\$,]', '', regex=True).astype(float)\n",
    "\n"
   ]
  },
  {
   "cell_type": "code",
   "execution_count": 229,
   "metadata": {},
   "outputs": [],
   "source": [
    "full_df = full_df[full_df['start_date'] <= cutoff_date]\n",
    "full_df = full_df[~full_df['start_date'].isna()]\n",
    "\n",
    "provinces_df = full_df[full_df['subregion'].isna() & full_df['region'].notna() & (full_df['region'] != \"All\")]\n",
    "\n",
    "federal_df = full_df[full_df['subregion'].isna() & (full_df['region'].isna() | (full_df['region'] == \"All\"))]"
   ]
  },
  {
   "cell_type": "code",
   "execution_count": 230,
   "metadata": {},
   "outputs": [
    {
     "data": {
      "text/plain": [
       "(3095, 35)"
      ]
     },
     "execution_count": 230,
     "metadata": {},
     "output_type": "execute_result"
    }
   ],
   "source": [
    "full_df.shape"
   ]
  },
  {
   "cell_type": "code",
   "execution_count": 231,
   "metadata": {},
   "outputs": [
    {
     "data": {
      "text/plain": [
       "(1598, 35)"
      ]
     },
     "execution_count": 231,
     "metadata": {},
     "output_type": "execute_result"
    }
   ],
   "source": [
    "provinces_df.shape"
   ]
  },
  {
   "cell_type": "code",
   "execution_count": 232,
   "metadata": {},
   "outputs": [
    {
     "data": {
      "text/plain": [
       "(108, 35)"
      ]
     },
     "execution_count": 232,
     "metadata": {},
     "output_type": "execute_result"
    }
   ],
   "source": [
    "federal_df.shape"
   ]
  },
  {
   "cell_type": "code",
   "execution_count": 233,
   "metadata": {},
   "outputs": [],
   "source": [
    "full_df.drop(columns=['reviewer']).to_csv('npi_canada.csv')\n",
    "provinces_df.drop(columns=['reviewer']).to_csv('npi_by_province.csv')\n",
    "federal_df.drop(columns=['reviewer']).to_csv('npi_federal.csv')"
   ]
  },
  {
   "cell_type": "markdown",
   "metadata": {},
   "source": [
    "# Descriptive Statistics for Paper"
   ]
  },
  {
   "cell_type": "code",
   "execution_count": 234,
   "metadata": {},
   "outputs": [
    {
     "name": "stdout",
     "output_type": "stream",
     "text": [
      "Number of interventions recorded:  3095\n"
     ]
    }
   ],
   "source": [
    "print(\"Number of interventions recorded: \", full_df.shape[0])"
   ]
  },
  {
   "cell_type": "code",
   "execution_count": 235,
   "metadata": {},
   "outputs": [
    {
     "name": "stdout",
     "output_type": "stream",
     "text": [
      "Number of oxford interventions recorded:  1496\n"
     ]
    }
   ],
   "source": [
    "print(\"Number of oxford interventions recorded: \", full_df['oxford_government_response_category'].count())"
   ]
  },
  {
   "cell_type": "code",
   "execution_count": 236,
   "metadata": {},
   "outputs": [],
   "source": [
    "#n = full_df[full_df['oxford_government_response_category'].isin(['S8 Fiscal measures', 'S9 Monetary measures (interest rate)', 'S10 Emergency investment in health care', 'S11 Investment in vaccines', 'S12 Testing policy', 'S13 Contact tracing'])]['oxford_government_response_category'].count()\n",
    "#print(\"Number of oxford interventions in Stringency Index recorded (S1-S7): \", n)"
   ]
  },
  {
   "cell_type": "code",
   "execution_count": 237,
   "metadata": {},
   "outputs": [],
   "source": [
    "#n / full_df.shape[0]"
   ]
  },
  {
   "cell_type": "code",
   "execution_count": 238,
   "metadata": {},
   "outputs": [
    {
     "name": "stdout",
     "output_type": "stream",
     "text": [
      "Number of unique source urls:  1859\n"
     ]
    }
   ],
   "source": [
    "print(\"Number of unique source urls: \", len(full_df['source_url'].unique()))"
   ]
  },
  {
   "cell_type": "code",
   "execution_count": 239,
   "metadata": {},
   "outputs": [
    {
     "name": "stdout",
     "output_type": "stream",
     "text": [
      "Number of unique primary source organizations:  256\n"
     ]
    }
   ],
   "source": [
    "print(\"Number of unique primary source organizations: \", len(full_df['source_organization'].unique()))"
   ]
  },
  {
   "cell_type": "code",
   "execution_count": 240,
   "metadata": {},
   "outputs": [
    {
     "name": "stdout",
     "output_type": "stream",
     "text": [
      "% of interventions with oxford classifications:  0.49194343965800724\n"
     ]
    }
   ],
   "source": [
    "oxford_ratio = full_df['oxford_government_response_category'].count() / full_df['intervention_category'].count()\n",
    "print(\"% of interventions with oxford classifications: \", oxford_ratio)\n",
    "\n"
   ]
  },
  {
   "cell_type": "code",
   "execution_count": null,
   "metadata": {},
   "outputs": [],
   "source": []
  },
  {
   "cell_type": "code",
   "execution_count": 242,
   "metadata": {},
   "outputs": [
    {
     "data": {
      "text/plain": [
       "C1 School Closing                           54 \n",
       "C2 Workplace Closures                       234\n",
       "C3 Cancel Public Events                     6  \n",
       "C3 Cancel public events                     162\n",
       "C4 Public Gathering Restrictions            5  \n",
       "C5 Close Public Transport                   1  \n",
       "C5 Close public transport                   6  \n",
       "C6 Stay at Home                             1  \n",
       "C7 Restrictions on internal movements       178\n",
       "C8 International Travel Controls            56 \n",
       "E1 Income Support                           10 \n",
       "E2 Debt / Contract Relief for Households    6  \n",
       "E3 Fiscal Measures                          254\n",
       "E3 Fiscal measures                          34 \n",
       "E4 Support for Other Countries              1  \n",
       "H1 Public Info Campaigns                    350\n",
       "H2 Testing policy                           46 \n",
       "H3 Contact tracing                          6  \n",
       "H4 Emergency investment in health care      75 \n",
       "H5 Investment in vaccines                   11 \n",
       "Name: oxford_government_response_category, dtype: int64"
      ]
     },
     "execution_count": 242,
     "metadata": {},
     "output_type": "execute_result"
    }
   ],
   "source": [
    "full_df['oxford_government_response_category'].value_counts().sort_index()"
   ]
  },
  {
   "cell_type": "code",
   "execution_count": 241,
   "metadata": {},
   "outputs": [
    {
     "ename": "AssertionError",
     "evalue": "",
     "output_type": "error",
     "traceback": [
      "\u001b[0;31m---------------------------------------------------------------------------\u001b[0m",
      "\u001b[0;31mAssertionError\u001b[0m                            Traceback (most recent call last)",
      "\u001b[0;32m<ipython-input-241-901d6459576e>\u001b[0m in \u001b[0;36m<module>\u001b[0;34m()\u001b[0m\n\u001b[0;32m----> 1\u001b[0;31m \u001b[0;32massert\u001b[0m \u001b[0mfull_df\u001b[0m\u001b[0;34m[\u001b[0m\u001b[0;34m'oxford_government_response_category'\u001b[0m\u001b[0;34m]\u001b[0m\u001b[0;34m.\u001b[0m\u001b[0mnunique\u001b[0m\u001b[0;34m(\u001b[0m\u001b[0;34m)\u001b[0m \u001b[0;34m==\u001b[0m \u001b[0;36m17\u001b[0m\u001b[0;34m\u001b[0m\u001b[0m\n\u001b[0m",
      "\u001b[0;31mAssertionError\u001b[0m: "
     ]
    }
   ],
   "source": [
    "assert full_df['oxford_government_response_category'].nunique() == 17\n"
   ]
  },
  {
   "cell_type": "code",
   "execution_count": null,
   "metadata": {},
   "outputs": [],
   "source": [
    "print(\"Number of regions: \", full_df['region'].nunique())\n",
    "print(\"Number of subregions: \", full_df['subregion'].nunique())\n",
    "\n",
    "assert full_df['region'].nunique() == 15 # 13 provinces + nan + All\n",
    "assert full_df['subregion'].nunique() == 21"
   ]
  },
  {
   "cell_type": "markdown",
   "metadata": {},
   "source": [
    "# NPIs before Key Dates"
   ]
  },
  {
   "cell_type": "code",
   "execution_count": null,
   "metadata": {},
   "outputs": [],
   "source": [
    "full_11_df = full_df[full_df['start_date'] < '2020-03-11']\n",
    "print(\"Number of interventions recorded before may 11: \", full_11_df.shape[0])\n",
    "print(\"Number of interventions recorded before may 11 (%): \", full_11_df.shape[0] / full_df.shape[0])\n"
   ]
  },
  {
   "cell_type": "code",
   "execution_count": null,
   "metadata": {},
   "outputs": [],
   "source": [
    "full_11_df.groupby(by='intervention_category')['start_date'].count().plot.bar()"
   ]
  },
  {
   "cell_type": "code",
   "execution_count": null,
   "metadata": {},
   "outputs": [],
   "source": [
    "full_1_df = full_df[full_df['start_date'] < '2020-01-25'] # first case\n",
    "print(\"Number of interventions recorded before Jan 25: \", full_1_df.shape[0])\n",
    "print(\"Number of interventions recorded before Jan 25 (%): \", full_1_df.shape[0] / full_df.shape[0])\n"
   ]
  },
  {
   "cell_type": "code",
   "execution_count": null,
   "metadata": {},
   "outputs": [],
   "source": [
    "9 / full_df.shape[0]"
   ]
  },
  {
   "cell_type": "code",
   "execution_count": null,
   "metadata": {},
   "outputs": [],
   "source": [
    "full_1_df['intervention_category'].unique()"
   ]
  },
  {
   "cell_type": "markdown",
   "metadata": {},
   "source": [
    "## NPI: Enforcement Categories\n"
   ]
  },
  {
   "cell_type": "code",
   "execution_count": null,
   "metadata": {},
   "outputs": [],
   "source": [
    "len(full_df['enforcement_category'].unique())"
   ]
  },
  {
   "cell_type": "code",
   "execution_count": null,
   "metadata": {},
   "outputs": [],
   "source": [
    "full_df.groupby(by='enforcement_category').count().max(axis=1).sort_values()"
   ]
  },
  {
   "cell_type": "code",
   "execution_count": null,
   "metadata": {},
   "outputs": [],
   "source": [
    "full_df.groupby(by=\"enforcement_category\").count().max(axis=1).sort_values(ascending=False).plot.barh(log=True, figsize=(3,3))\n",
    "plt.xlabel('count')"
   ]
  },
  {
   "cell_type": "markdown",
   "metadata": {},
   "source": [
    "## Target Population Categories"
   ]
  },
  {
   "cell_type": "code",
   "execution_count": null,
   "metadata": {},
   "outputs": [],
   "source": [
    "len(full_df['target_population_category'].unique())"
   ]
  },
  {
   "cell_type": "code",
   "execution_count": null,
   "metadata": {},
   "outputs": [],
   "source": [
    "full_df.groupby(by=\"target_population_category\").count().max(axis=1).sort_values(ascending=False).plot.barh(log=True, figsize=(5,7))\n",
    "plt.xlabel('count')"
   ]
  },
  {
   "cell_type": "markdown",
   "metadata": {},
   "source": [
    "## NPI: Intervention Categories"
   ]
  },
  {
   "cell_type": "code",
   "execution_count": null,
   "metadata": {},
   "outputs": [],
   "source": [
    "len(full_df['intervention_category'].unique())"
   ]
  },
  {
   "cell_type": "markdown",
   "metadata": {},
   "source": [
    "Lets show examples of the top 15 interventions by count"
   ]
  },
  {
   "cell_type": "code",
   "execution_count": null,
   "metadata": {},
   "outputs": [],
   "source": [
    "intervention_counts = pd.DataFrame(full_df.groupby(by='intervention_category').count().max(axis=1))"
   ]
  },
  {
   "cell_type": "code",
   "execution_count": null,
   "metadata": {},
   "outputs": [],
   "source": [
    "pd.set_option('display.max_colwidth', -1)\n",
    "\n",
    "examples = pd.DataFrame(full_df.groupby(by='intervention_category').apply(lambda x: x.sample(1, random_state=3)['intervention_summary'].values[0]))\n",
    "\n",
    "intervention_counts.merge(examples, left_index=True, right_index=True).sort_values(by='0_x', ascending=False)[0:17]\n",
    "\n"
   ]
  },
  {
   "cell_type": "code",
   "execution_count": null,
   "metadata": {},
   "outputs": [],
   "source": [
    "full_df[full_df['oxford_government_response_category'].isna()].groupby(by='intervention_category').count().max(axis=1).sort_values(ascending=False)\n"
   ]
  },
  {
   "cell_type": "code",
   "execution_count": null,
   "metadata": {},
   "outputs": [],
   "source": [
    "\n",
    "full_df.groupby(by=\"intervention_category\").count().max(axis=1).sort_values(ascending=False).plot.barh(log=True, figsize=(8,14))\n",
    "plt.xlabel('count')\n"
   ]
  },
  {
   "cell_type": "markdown",
   "metadata": {},
   "source": [
    "# Sources\n",
    "\n",
    "Looking at unique source urls, organizations, and source types"
   ]
  },
  {
   "cell_type": "code",
   "execution_count": null,
   "metadata": {},
   "outputs": [],
   "source": [
    "a = full_df['source_organization'].unique()\n",
    "a.shape"
   ]
  },
  {
   "cell_type": "code",
   "execution_count": null,
   "metadata": {},
   "outputs": [],
   "source": [
    "b = full_df['source_organization_2'].unique()"
   ]
  },
  {
   "cell_type": "code",
   "execution_count": null,
   "metadata": {},
   "outputs": [],
   "source": [
    "all_sources = list(set(a) | set(b))\n",
    "len(all_sources)"
   ]
  },
  {
   "cell_type": "markdown",
   "metadata": {},
   "source": [
    "## NPI: Fiscal Measures\n",
    "\n",
    "Show investments by province or subregion"
   ]
  },
  {
   "cell_type": "code",
   "execution_count": null,
   "metadata": {
    "scrolled": false
   },
   "outputs": [],
   "source": [
    "#fig, ax = plt.subplots(figsize=(12,10))\n",
    "\n",
    "dates = pd.date_range(start='03-01-2020', end='05-20-2020', name='dates').to_series() #mm-dd-yyyy\n",
    "gb = provinces_df[provinces_df['oxford_fiscal_measure_cad'].notna()][['start_date', 'region', 'oxford_fiscal_measure_cad']].groupby(by='region')\n",
    "provinces_fiscal = pd.DataFrame(dates)\n",
    "\n",
    "for g_name, g_df in gb:\n",
    "    all_dates_df = g_df.join(dates, on='start_date', how='right')\n",
    "    all_dates_df['oxford_fiscal_measure_cad'] = all_dates_df['oxford_fiscal_measure_cad'].fillna(0)\n",
    "    all_dates_df = all_dates_df.sort_values(by='start_date', ascending=True)\n",
    "    all_dates_df['cumulative'] = all_dates_df['oxford_fiscal_measure_cad'].cumsum(axis=0)\n",
    "    all_dates_df.set_index('start_date')\n",
    "    all_dates_df = all_dates_df.groupby(by='start_date').sum()\n",
    "\n",
    "    provinces_fiscal[g_name] = all_dates_df['cumulative']\n",
    "\n",
    "#plt.yscale('log')\n",
    "#plt.title('')\n",
    "#plt.ylabel('Fiscal Interventions ($)')\n",
    "#plt.xlabel('Date')\n",
    "\n",
    "#provinces_fiscal"
   ]
  },
  {
   "cell_type": "code",
   "execution_count": null,
   "metadata": {},
   "outputs": [],
   "source": [
    "print(\"WARNING: Not Correct Yet\")\n",
    "provinces_fiscal.drop(['dates'], axis=1).plot.area()"
   ]
  },
  {
   "cell_type": "code",
   "execution_count": null,
   "metadata": {},
   "outputs": [],
   "source": [
    "fig, ax = plt.subplots(figsize=(12,10))\n",
    "\n",
    "dates = pd.date_range(start='03-01-2020', end='05-20-2020', name='dates').to_series() #mm-dd-yyyy\n",
    "gb = provinces_df[provinces_df['oxford_fiscal_measure_cad'].notna()][['start_date', 'region', 'oxford_fiscal_measure_cad']].groupby(by='region')\n",
    "\n",
    "for g_name, g_df in gb:\n",
    "    all_dates_df = g_df.join(dates, on='start_date', how='right')\n",
    "    all_dates_df['oxford_fiscal_measure_cad'] = all_dates_df['oxford_fiscal_measure_cad'].fillna(0)\n",
    "    all_dates_df = all_dates_df.sort_values(by='start_date', ascending=True)\n",
    "    all_dates_df['oxford_fiscal_measure_cad_cumsum'] = all_dates_df['oxford_fiscal_measure_cad'].cumsum(axis=0)\n",
    "    #print(all_dates_df)\n",
    "    all_dates_df.plot(x='start_date', y='oxford_fiscal_measure_cad_cumsum', label=g_name, ax=ax)\n",
    "\n",
    "plt.yscale('log')"
   ]
  },
  {
   "cell_type": "code",
   "execution_count": null,
   "metadata": {},
   "outputs": [],
   "source": [
    "full_df.groupby(by=['region']).count().max(axis=1).plot.barh()"
   ]
  },
  {
   "cell_type": "code",
   "execution_count": null,
   "metadata": {},
   "outputs": [],
   "source": [
    "full_df.groupby(by=['region'])['start_date'].quantile(0.5).sort_values()"
   ]
  },
  {
   "cell_type": "markdown",
   "metadata": {},
   "source": [
    "# Temporal Distribution of Events"
   ]
  },
  {
   "cell_type": "code",
   "execution_count": null,
   "metadata": {},
   "outputs": [],
   "source": [
    "full_df['start_date'].quantile(0.5)"
   ]
  },
  {
   "cell_type": "code",
   "execution_count": null,
   "metadata": {},
   "outputs": [],
   "source": [
    "provinces_df['start_date'].quantile(0.5)"
   ]
  },
  {
   "cell_type": "code",
   "execution_count": null,
   "metadata": {},
   "outputs": [],
   "source": [
    "full_df['start_date'].quantile(0.5)"
   ]
  },
  {
   "cell_type": "code",
   "execution_count": null,
   "metadata": {},
   "outputs": [],
   "source": [
    "earliest_dates = provinces_df.groupby(by='region')['start_date'].min()\n",
    "earliest_dates"
   ]
  },
  {
   "cell_type": "code",
   "execution_count": null,
   "metadata": {},
   "outputs": [],
   "source": [
    "assert earliest_dates.min() > datetime(2020, 1, 1)"
   ]
  },
  {
   "cell_type": "code",
   "execution_count": null,
   "metadata": {},
   "outputs": [],
   "source": [
    "latest_dates = provinces_df.groupby(by='region')['start_date'].max()\n",
    "latest_dates"
   ]
  },
  {
   "cell_type": "code",
   "execution_count": null,
   "metadata": {},
   "outputs": [],
   "source": [
    "assert latest_dates.min() <= cutoff_date"
   ]
  },
  {
   "cell_type": "code",
   "execution_count": null,
   "metadata": {},
   "outputs": [],
   "source": [
    "cma_earliest_dates = full_df.dropna(subset=['subregion']).groupby(by='subregion')['start_date'].min()\n",
    "cma_earliest_dates"
   ]
  },
  {
   "cell_type": "code",
   "execution_count": null,
   "metadata": {},
   "outputs": [],
   "source": [
    "assert cma_earliest_dates.min() > datetime(2020, 1, 1)"
   ]
  },
  {
   "cell_type": "code",
   "execution_count": null,
   "metadata": {},
   "outputs": [],
   "source": [
    "cma_latest_dates = full_df.dropna(subset=['subregion']).groupby(by='subregion')['start_date'].max()\n",
    "cma_latest_dates"
   ]
  },
  {
   "cell_type": "code",
   "execution_count": null,
   "metadata": {},
   "outputs": [],
   "source": [
    "assert cma_latest_dates.min() <= cutoff_date"
   ]
  },
  {
   "cell_type": "code",
   "execution_count": null,
   "metadata": {},
   "outputs": [],
   "source": [
    "import matplotlib.dates as mdates\n",
    "import matplotlib as mpl\n",
    "\n",
    "fig, ax = plt.subplots(figsize=(10,4))\n",
    "\n",
    "xticks = pd.date_range(start='12-01-2019', end='03-31-2020', freq='M')\n",
    "#subset = full_df[full_df['start_date'] < pd.to_datetime('04-01-2020')]\n",
    "ts = full_df.groupby(by=['start_date'])['intervention_category'].count()\n",
    "\n",
    "cmap = mpl.cm.get_cmap('viridis')\n",
    "plt.bar(ts.index, ts.values, color=cmap(0))\n",
    "\n",
    "plt.xlabel('Date')\n",
    "plt.ylabel('Intervention Count')\n",
    "plt.gca().xaxis.set_major_locator(mdates.MonthLocator())\n",
    "month_format = mdates.DateFormatter('%d %b')\n",
    "plt.gca().xaxis.set_major_formatter(month_format)\n",
    "plt.xticks(rotation=90, ha='right')\n",
    "\n",
    "print(xticks)"
   ]
  },
  {
   "cell_type": "code",
   "execution_count": null,
   "metadata": {},
   "outputs": [],
   "source": [
    "import matplotlib.dates as mdates\n",
    "import matplotlib as mpl\n",
    "\n",
    "fig, ax = plt.subplots(figsize=(10, 4))\n",
    "\n",
    "xticks = pd.date_range(start='12-01-2019', end='05-17-2020', freq='M')\n",
    "#subset = full_df[full_df['start_date'] < pd.to_datetime('04-01-2020')]\n",
    "\n",
    "\n",
    "cmap = mpl.cm.get_cmap('magma')\n",
    "\n",
    "\n",
    "ts = full_df.groupby(by=['start_date'])['intervention_category'].count()\n",
    "plt.bar(ts.index, ts.values, color=cmap(0.8), label='All')\n",
    "\n",
    "ts = provinces_df.groupby(by=['start_date'])['intervention_category'].count()\n",
    "plt.bar(ts.index, ts.values, color=cmap(0.5), label='Provincial')\n",
    "\n",
    "ts = federal_df.groupby(by=['start_date'])['intervention_category'].count()\n",
    "plt.bar(ts.index, ts.values, color=cmap(0.1), label='Federal')\n",
    "\n",
    "\n",
    "\n",
    "plt.xlabel('Date')\n",
    "plt.ylabel('Intervention Count')\n",
    "plt.gca().xaxis.set_major_locator(mdates.MonthLocator())\n",
    "month_format = mdates.DateFormatter('%d %b')\n",
    "plt.gca().xaxis.set_major_formatter(month_format)\n",
    "print(xticks)\n",
    "plt.legend()\n",
    "\n",
    "#ts = full_df.subtract(provinces_df).groupby(by=['start_date'])['intervention_category'].count()\n",
    "#cmap = mpl.cm.get_cmap('viridis')\n",
    "#plt.bar(ts.index, ts.values, color=cmap(.5), alpha=0.4)\n",
    "plt.savefig('doc/img/fig2.png', dpi=300)"
   ]
  },
  {
   "cell_type": "markdown",
   "metadata": {},
   "source": [
    "# Geographical Distribution of Interventions"
   ]
  },
  {
   "cell_type": "code",
   "execution_count": null,
   "metadata": {},
   "outputs": [],
   "source": [
    "names = full_df['region']"
   ]
  },
  {
   "cell_type": "code",
   "execution_count": null,
   "metadata": {},
   "outputs": [],
   "source": [
    "import matplotlib.ticker as ticker\n",
    "provinces_df.dropna(subset=['region']).groupby(by=['region'])['intervention_category'].nunique().plot.bar(figsize=(10,4), cmap='viridis')\n",
    "plt.ylabel('Number of unique intervention categories recorded')\n",
    "\n",
    "#@ticker.FuncFormatter\n",
    "#def major_formatter(x, pos):\n",
    "#    return str(x).replace('(', '').replace('(', '')\n",
    "#plt.gca().xaxis.set_major_formatter(major_formatter)\n",
    "plt.xticks(rotation=45, ha='right')\n"
   ]
  },
  {
   "cell_type": "code",
   "execution_count": null,
   "metadata": {},
   "outputs": [],
   "source": [
    "import matplotlib.ticker as ticker\n",
    "subregions = full_df.dropna(subset=['subregion']).groupby(by=['subregion'])['intervention_category'].nunique()\n",
    "\n",
    "subregions.plot.bar(figsize=(10,4), cmap='viridis')\n",
    "plt.ylabel('Number of unique intervention categories recorded')\n",
    "\n",
    "#@ticker.FuncFormatter\n",
    "#def major_formatter(x, pos):\n",
    "#    return str(x).replace('(', '').replace('(', '')\n",
    "#plt.gca().xaxis.set_major_formatter(major_formatter)\n",
    "plt.xticks(rotation=45, ha='right')\n"
   ]
  },
  {
   "cell_type": "code",
   "execution_count": null,
   "metadata": {},
   "outputs": [],
   "source": [
    "full_df.fillna('Province').groupby(by=['region', 'subregion'])['oxford_government_response_category'].nunique().plot.barh()\n",
    "plt.xlabel('Number of unique Oxford interventions recorded')\n"
   ]
  },
  {
   "cell_type": "code",
   "execution_count": null,
   "metadata": {},
   "outputs": [],
   "source": [
    "provinces_df.groupby(by='region')['intervention_category'].nunique().plot.barh()\n",
    "plt.ylabel('Unique Intervention Categories Recorded')"
   ]
  },
  {
   "cell_type": "code",
   "execution_count": null,
   "metadata": {},
   "outputs": [],
   "source": [
    "full_df[full_df['subregion'].isna()].groupby(by=['region'])['intervention_category'].nunique().plot.barh()\n",
    "plt.xlabel('Number of unique interventions recorded')\n"
   ]
  },
  {
   "cell_type": "code",
   "execution_count": null,
   "metadata": {},
   "outputs": [],
   "source": [
    "full_df[full_df['subregion'].isna()].groupby(by=['region'])['oxford_government_response_category'].nunique().plot.barh()\n",
    "plt.xlabel('Number of unique Oxford response measures recorded')\n"
   ]
  },
  {
   "cell_type": "code",
   "execution_count": null,
   "metadata": {},
   "outputs": [],
   "source": [
    "full_df[full_df['subregion'].isna()].groupby(by=['region'])['oxford_fiscal_measure_cad'].sum().plot.barh()\n",
    "plt.xlabel('Oxford Fiscal Measure (CAD) recorded')\n"
   ]
  },
  {
   "cell_type": "code",
   "execution_count": null,
   "metadata": {},
   "outputs": [],
   "source": [
    "full_df[full_df['subregion'].isna()].groupby(by=['region'])['oxford_fiscal_measure_cad'].sum()"
   ]
  },
  {
   "cell_type": "code",
   "execution_count": null,
   "metadata": {},
   "outputs": [],
   "source": [
    "df = pd.DataFrame(provinces_df.groupby(by='region')['oxford_fiscal_measure_cad'].sum())\n",
    "df['region'] = df.index\n",
    "df = df.merge(population_df, on='region', how='left')\n",
    "df['fiscal_measure_cad_popnorm'] = df['oxford_fiscal_measure_cad'] /  df['population_q1_2020']\n",
    "df = df.sort_values(by='fiscal_measure_cad_popnorm', ascending=False)\n",
    "df.plot.bar(x='region', y='fiscal_measure_cad_popnorm')\n",
    "plt.ylabel(\"$ / person\")"
   ]
  },
  {
   "cell_type": "code",
   "execution_count": null,
   "metadata": {},
   "outputs": [],
   "source": [
    "provinces_df.groupby(by='region')['oxford_fiscal_measure_cad'].sum().sort_values(ascending=False).plot.bar()\n",
    "plt.ylabel('fiscal measures (CAD)')"
   ]
  },
  {
   "cell_type": "markdown",
   "metadata": {},
   "source": [
    "# Comparing Provincial and Municipal Interventions of the Same Type"
   ]
  },
  {
   "cell_type": "code",
   "execution_count": null,
   "metadata": {},
   "outputs": [],
   "source": [
    "from matplotlib.dates import MO\n",
    "fig = matplotlib.pyplot.gcf()\n",
    "fig.set_size_inches(10, 5)\n",
    "\n",
    "ont_df = full_df[full_df['region'] == 'Ontario']\n",
    "\n",
    "cmap = mpl.cm.get_cmap('magma')\n",
    "\n",
    "soc = ont_df[ont_df['intervention_category'] == 'Social Distancing Announcement']\n",
    "#rec = ont_df[ont_df['intervention_category'] == 'Recreational / Entertainment Facility Closure']\n",
    "pem = ont_df[ont_df['intervention_category'] == 'Public event/ meeting cancellation or postponement']\n",
    "#park = ont_df[ont_df['intervention_category'] == 'Public park closure']\n",
    "\n",
    "start = datetime(2020, 3, 9)\n",
    "end = datetime(2020, 4, 1) \n",
    "drange=(start, end)\n",
    "\n",
    "pem.groupby('subregion').min()['start_date'].hist(bins=50, range=drange, color=cmap(0.35),  alpha=0.9, cumulative=True, label='Public event cancellation')\n",
    "#rec.groupby('subregion').min()['start_date'].hist(bins=30, color=cmap(0.8), alpha=0.5, cumulative=True, label='Recreational / Entertainment Facility Closure')\n",
    "soc.groupby('subregion').min()['start_date'].hist(bins=50, range=drange, color=cmap(0.6), alpha=0.6, cumulative=True, label='Social distancing announcements')\n",
    "#park.groupby('subregion').min()['start_date'].hist(color='red', alpha=0.5, label='Public park closure')\n",
    "\n",
    "a = soc[soc['subregion'].isna()]\n",
    "soc_ont = a[a['intervention_category'] == 'Social Distancing Announcement']\n",
    "soc_ont_date = soc_ont['start_date'].min()\n",
    "\n",
    "#a = rec[rec['subregion'].isna()]\n",
    "rec_ont = a[a['intervention_category'] == 'Recreational / Entertainment Facility Closure']\n",
    "rec_ont_date = rec_ont['start_date'].min()\n",
    "\n",
    "plt.axvline(x=rec_ont_date, label='First provincial public event cancellation', color=cmap(0.25), linewidth=2)\n",
    "plt.axvline(x=soc_ont_date, label='First provincial social distancing announcement', color=cmap(0.65), linewidth=2)\n",
    "\n",
    "plt.xticks(rotation=45, ha='right')\n",
    "plt.legend(loc=\"lower right\")\n",
    "plt.title('Municipality interventions over time in Ontario compared with Provincial interventions')\n",
    "\n",
    "plt.xlabel('Date')\n",
    "plt.ylabel('Municipalities with intervention')\n",
    "plt.gca().xaxis.set_major_locator(mdates.WeekdayLocator(byweekday=(MO)))\n",
    "month_format = mdates.DateFormatter('%d %b')\n",
    "plt.gca().xaxis.set_major_formatter(month_format)\n"
   ]
  },
  {
   "cell_type": "markdown",
   "metadata": {},
   "source": [
    "## Heatmap of cumulative municipal top intervention categories"
   ]
  },
  {
   "cell_type": "code",
   "execution_count": null,
   "metadata": {},
   "outputs": [],
   "source": [
    "# Thanks to matplotlib documentation for this\n",
    "\n",
    "def heatmap(data, row_labels, col_labels, ax=None,\n",
    "            cbar_kw={}, cbarlabel=\"\", **kwargs):\n",
    "    \"\"\"\n",
    "    Create a heatmap from a numpy array and two lists of labels.\n",
    "\n",
    "    Parameters\n",
    "    ----------\n",
    "    data\n",
    "        A 2D numpy array of shape (N, M).\n",
    "    row_labels\n",
    "        A list or array of length N with the labels for the rows.\n",
    "    col_labels\n",
    "        A list or array of length M with the labels for the columns.\n",
    "    ax\n",
    "        A `matplotlib.axes.Axes` instance to which the heatmap is plotted.  If\n",
    "        not provided, use current axes or create a new one.  Optional.\n",
    "    cbar_kw\n",
    "        A dictionary with arguments to `matplotlib.Figure.colorbar`.  Optional.\n",
    "    cbarlabel\n",
    "        The label for the colorbar.  Optional.\n",
    "    **kwargs\n",
    "        All other arguments are forwarded to `imshow`.\n",
    "    \"\"\"\n",
    "\n",
    "    if not ax:\n",
    "        ax = plt.gca()\n",
    "\n",
    "    # Plot the heatmap\n",
    "    im = ax.imshow(data, **kwargs)\n",
    "\n",
    "    # Create colorbar\n",
    "    cbar = ax.figure.colorbar(im, ax=ax, **cbar_kw)\n",
    "    cbar.ax.set_ylabel(cbarlabel, rotation=-90, va=\"bottom\")\n",
    "\n",
    "    # We want to show all ticks...\n",
    "    ax.set_xticks(np.arange(data.shape[1]))\n",
    "    ax.set_yticks(np.arange(data.shape[0]))\n",
    "    # ... and label them with the respective list entries.\n",
    "    ax.set_xticklabels(col_labels)\n",
    "    ax.set_yticklabels(row_labels)\n",
    "\n",
    "    # Let the horizontal axes labeling appear on top.\n",
    "    ax.tick_params(top=True, bottom=False,\n",
    "                   labeltop=True, labelbottom=False)\n",
    "\n",
    "    # Rotate the tick labels and set their alignment.\n",
    "    plt.setp(ax.get_xticklabels(), rotation=-30, ha=\"right\",\n",
    "             rotation_mode=\"anchor\")\n",
    "\n",
    "    # Turn spines off and create white grid.\n",
    "    for edge, spine in ax.spines.items():\n",
    "        spine.set_visible(False)\n",
    "\n",
    "    ax.set_xticks(np.arange(data.shape[1]+1)-.5, minor=True)\n",
    "    ax.set_yticks(np.arange(data.shape[0]+1)-.5, minor=True)\n",
    "    ax.grid(which=\"minor\", color=\"w\", linestyle='-', linewidth=3)\n",
    "    ax.tick_params(which=\"minor\", bottom=False, left=False)\n",
    "\n",
    "    return im, cbar\n",
    "\n",
    "def annotate_heatmap(im, data=None, valfmt=\"{x:.2f}\",\n",
    "                     textcolors=[\"black\", \"white\"],\n",
    "                     threshold=None, **textkw):\n",
    "    \"\"\"\n",
    "    A function to annotate a heatmap.\n",
    "\n",
    "    Parameters\n",
    "    ----------\n",
    "    im\n",
    "        The AxesImage to be labeled.\n",
    "    data\n",
    "        Data used to annotate.  If None, the image's data is used.  Optional.\n",
    "    valfmt\n",
    "        The format of the annotations inside the heatmap.  This should either\n",
    "        use the string format method, e.g. \"$ {x:.2f}\", or be a\n",
    "        `matplotlib.ticker.Formatter`.  Optional.\n",
    "    textcolors\n",
    "        A list or array of two color specifications.  The first is used for\n",
    "        values below a threshold, the second for those above.  Optional.\n",
    "    threshold\n",
    "        Value in data units according to which the colors from textcolors are\n",
    "        applied.  If None (the default) uses the middle of the colormap as\n",
    "        separation.  Optional.\n",
    "    **kwargs\n",
    "        All other arguments are forwarded to each call to `text` used to create\n",
    "        the text labels.\n",
    "    \"\"\"\n",
    "\n",
    "    if not isinstance(data, (list, np.ndarray)):\n",
    "        data = im.get_array()\n",
    "\n",
    "    # Normalize the threshold to the images color range.\n",
    "    if threshold is not None:\n",
    "        threshold = im.norm(threshold)\n",
    "    else:\n",
    "        threshold = im.norm(data.max())/2.\n",
    "\n",
    "    # Set default alignment to center, but allow it to be\n",
    "    # overwritten by textkw.\n",
    "    kw = dict(horizontalalignment=\"center\",\n",
    "              verticalalignment=\"center\")\n",
    "    kw.update(textkw)\n",
    "\n",
    "    # Get the formatter in case a string is supplied\n",
    "    if isinstance(valfmt, str):\n",
    "        valfmt = matplotlib.ticker.StrMethodFormatter(valfmt)\n",
    "\n",
    "    # Loop over the data and create a `Text` for each \"pixel\".\n",
    "    # Change the text's color depending on the data.\n",
    "    texts = []\n",
    "    for i in range(data.shape[0]):\n",
    "        for j in range(data.shape[1]):\n",
    "            kw.update(color=textcolors[int(im.norm(data[i, j]) > threshold)])\n",
    "            text = im.axes.text(j, i, valfmt(data[i, j], None), **kw)\n",
    "            texts.append(text)\n",
    "\n",
    "    return texts"
   ]
  },
  {
   "cell_type": "code",
   "execution_count": null,
   "metadata": {},
   "outputs": [],
   "source": [
    "top_interventions = full_df.groupby(by='subregion')['intervention_category'].value_counts() \\\n",
    "    .groupby(by='intervention_category') \\\n",
    "    .count() \\\n",
    "    .sort_values(ascending=False)[:10] \\\n",
    "    \n",
    "top_interventions"
   ]
  },
  {
   "cell_type": "code",
   "execution_count": null,
   "metadata": {},
   "outputs": [],
   "source": [
    "cma_population= pd.DataFrame([['Toronto', 5429524],\n",
    "                [\"Montreal\", 3519595],\n",
    "                [\"Vancouver\", 2264823],\n",
    "                [\"Calgary\", 1237656],\n",
    "                [\"Edmonton\", 1062643],\n",
    "                [\"Ottawa\", 989657],\n",
    "                [\"Gatineau\", 989657],\n",
    "                [\"Winnipeg\", 711925],\n",
    "                [\"Quebec City\", 705103],\n",
    "                [\"Hamilton\", 693645],\n",
    "                [\"Kitchener-Waterloo\", 535154],\n",
    "                [\"London\", 383437],\n",
    "                [\"Victoria\", 335696],\n",
    "                [\"Halifax\", 316701],\n",
    "                [\"Oshawa\", 308875],\n",
    "                [\"Windsor\", 287069],\n",
    "                [\"Saskatoon\", 245181],\n",
    "                [\"Niagara\", 229246],\n",
    "                [\"Regina\", 214631],\n",
    "                [\"St. John's\", 178427],\n",
    "                [\"Kelowna\", 151957]], columns=['subregion', 'population'])\n",
    "# Population numbers from Canadian Census 2016"
   ]
  },
  {
   "cell_type": "code",
   "execution_count": null,
   "metadata": {},
   "outputs": [],
   "source": [
    "filtered_df = full_df[full_df['intervention_category'].isin(top_interventions.index.values)]\n",
    "#filtered_df = filtered_df.groupby(by=['subregion', 'start_date']).nunique()['intervention_category']\n",
    "filtered_df = filtered_df.merge(cma_population, on='subregion')\n",
    "filtered_df = filtered_df.sort_values(by='population', ascending=False)\n",
    "soc_count = filtered_df.groupby(by=['subregion', 'intervention_category'], sort=False).min()['start_date']\n",
    "#soc_count = soc_count.merge(cma_population, on='subregion')\n",
    "\n",
    "xticks = pd.date_range(start='03-08-2020', end='04-19-2020', freq='W')\n",
    "\n",
    "\n",
    "col = ['subregion', *xticks.date]\n",
    "cma_df = pd.DataFrame()\n",
    "\n",
    "for subregion in soc_count.index.get_level_values(0).unique():\n",
    "    dates = soc_count.loc[[subregion]].reset_index()\n",
    "    empty_row = [subregion]\n",
    "    for week_end in xticks.values:\n",
    "        count = dates[dates['start_date'] < week_end]['intervention_category'].count()\n",
    "        empty_row.append(count)\n",
    "    cma_df = cma_df.append([empty_row])\n",
    "    \n",
    "cma_df.columns = col\n",
    "cma_df = cma_df.set_index('subregion')"
   ]
  },
  {
   "cell_type": "code",
   "execution_count": null,
   "metadata": {
    "scrolled": false
   },
   "outputs": [],
   "source": [
    "#fig, (a0, a1) = plt.subplots(1, 2, gridspec_kw={'width_ratios': [5, 1]}, figsize=(10,6))\n",
    "fig, ax = plt.subplots(figsize=(10,8))\n",
    "\n",
    "nice_date = [x.strftime('%B %d') for x in cma_df.columns.values]\n",
    "\n",
    "im, cbar = heatmap(cma_df.values, cma_df.index.values, nice_date, ax=ax,\n",
    "                   cmap=\"magma_r\", cbarlabel=\"# of distinct intervention categories\")\n",
    "texts = annotate_heatmap(im, valfmt=\"{x:.0f}\")\n",
    "\n",
    "fig.tight_layout()\n",
    "plt.savefig('doc/img/fig5.png', dpi=300)"
   ]
  },
  {
   "cell_type": "markdown",
   "metadata": {},
   "source": [
    "# Mobility comparison"
   ]
  },
  {
   "cell_type": "code",
   "execution_count": null,
   "metadata": {},
   "outputs": [],
   "source": [
    "ox = full_df['oxford_government_response_category'].unique()"
   ]
  },
  {
   "cell_type": "code",
   "execution_count": null,
   "metadata": {},
   "outputs": [],
   "source": [
    "ox[2]"
   ]
  },
  {
   "cell_type": "code",
   "execution_count": null,
   "metadata": {},
   "outputs": [],
   "source": [
    "gb = provinces_df.groupby(by='region')\n",
    "for gb_name, g in gb:\n",
    "    for intervention in ox:\n",
    "        rows = g[g['oxford_government_response_category'] == intervention]\n",
    "        if ox[2] in rows['oxford_government_response_category']: # public events\n",
    "            print(rows['oxford_closure_code'])"
   ]
  },
  {
   "cell_type": "code",
   "execution_count": null,
   "metadata": {},
   "outputs": [],
   "source": [
    "g['oxford_government_response_category'].mode()"
   ]
  },
  {
   "cell_type": "code",
   "execution_count": null,
   "metadata": {},
   "outputs": [],
   "source": []
  }
 ],
 "metadata": {
  "kernelspec": {
   "display_name": "Python 3",
   "language": "python",
   "name": "python3"
  },
  "language_info": {
   "codemirror_mode": {
    "name": "ipython",
    "version": 3
   },
   "file_extension": ".py",
   "mimetype": "text/x-python",
   "name": "python",
   "nbconvert_exporter": "python",
   "pygments_lexer": "ipython3",
   "version": "3.6.3"
  }
 },
 "nbformat": 4,
 "nbformat_minor": 2
}
