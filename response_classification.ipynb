{
 "cells": [
  {
   "cell_type": "markdown",
   "metadata": {},
   "source": [
    "# Document Classification with LDA and MLPs"
   ]
  },
  {
   "cell_type": "code",
   "execution_count": 1,
   "metadata": {},
   "outputs": [],
   "source": [
    "from source_scraping import load_all, load_province\n",
    "from topic_modelling import *\n",
    "\n",
    "from sklearn.model_selection import train_test_split\n",
    "from sklearn.metrics import accuracy_score, precision_score, recall_score\n",
    "from sklearn.linear_model import LogisticRegression\n",
    "from sklearn.ensemble import RandomForestClassifier\n",
    "from sklearn.neighbors import KNeighborsClassifier\n",
    "from sklearn.metrics import confusion_matrix\n",
    "from sklearn.metrics import roc_auc_score\n",
    "from sklearn.utils import shuffle\n",
    "from sklearn.svm import LinearSVC, SVC\n",
    "\n",
    "from xgboost import XGBClassifier\n",
    "from matplotlib import pyplot as plt\n",
    "\n",
    "import numpy as np\n",
    "import pandas as pd\n",
    "\n",
    "import tensorflow as tf\n",
    "from tensorflow import keras\n",
    "from tensorflow.keras.models import Sequential\n",
    "from tensorflow.keras.layers import Dense, Dropout, Activation, ActivityRegularization\n",
    "from tensorflow.keras.optimizers import SGD, Nadam, Adam, Adamax\n",
    "from tensorflow.keras.regularizers import l1, l2, l1_l2\n",
    "from tensorflow.keras.metrics import Precision, Recall, BinaryAccuracy, AUC\n",
    "\n",
    "import os\n",
    "import joblib"
   ]
  },
  {
   "cell_type": "code",
   "execution_count": 2,
   "metadata": {},
   "outputs": [],
   "source": [
    "df = pd.read_csv('SCHEMA UPDATE - Collecting NPIs Effects - FULL.csv')\n",
    "pos_df = df.dropna(subset=['oxford_government_response_category', 'source_full_text'])\n",
    "categories = pd.unique([string[0] for string in pos_df['oxford_government_response_category']])"
   ]
  },
  {
   "cell_type": "markdown",
   "metadata": {},
   "source": [
    "### Convert Document into Topic Vector"
   ]
  },
  {
   "cell_type": "code",
   "execution_count": 3,
   "metadata": {},
   "outputs": [],
   "source": [
    "def lda_preprocess(texts, lda_model, lda_dict, stop_words=stopwords.words('english'), allowed_postags=['NOUN', 'ADJ', 'VERB']):\n",
    "    partially_processed = custom_preprocess(texts, stop_words=stop_words, allowed_postags=allowed_postags)\n",
    "    corpus = form_corpus(partially_processed, lda_dict)\n",
    "    texts_by_topic = [lda_model.get_document_topics(doc) for doc in corpus]\n",
    "    processed_texts = []\n",
    "    for topic_list in texts_by_topic:\n",
    "        feature_list = np.zeros(len(lda_model.get_topics()))\n",
    "        for index, value in topic_list:\n",
    "            feature_list[index] = value\n",
    "        processed_texts.append(feature_list)\n",
    "    return np.array(processed_texts)"
   ]
  },
  {
   "cell_type": "markdown",
   "metadata": {},
   "source": [
    "### Geographical Words to Consider Removing\n",
    "\n",
    "Could be improved; derivatives of words on list might not correctly be removed."
   ]
  },
  {
   "cell_type": "code",
   "execution_count": 4,
   "metadata": {},
   "outputs": [],
   "source": [
    "def geo_stop_words(df):\n",
    "    flatten = lambda l: [item for sublist in l for item in sublist] # flatten code from stackoverflow...\n",
    "    region_stop_words = set(flatten([reg.lower().split() for reg in df['region'].dropna()]))\n",
    "    sub_region_stop_words = set(flatten([reg.lower().split() for reg in df['subregion'].dropna()]))\n",
    "    geo_stop_words = region_stop_words.union(sub_region_stop_words)\n",
    "    return geo_stop_words"
   ]
  },
  {
   "cell_type": "code",
   "execution_count": 5,
   "metadata": {},
   "outputs": [],
   "source": [
    "def text_to_cats(df):\n",
    "    text_to_cats = { }\n",
    "\n",
    "    for index, row in df.dropna(subset=['oxford_government_response_category', 'source_full_text']).iterrows():\n",
    "        ox_cat = row['oxford_government_response_category']\n",
    "        if ox_cat:\n",
    "            text = row['source_full_text']\n",
    "            if text in text_to_cats:\n",
    "                text_to_cats[text].append(ox_cat)\n",
    "            else:\n",
    "                text_to_cats[text] = [ox_cat]\n",
    "                \n",
    "    return text_to_cats\n",
    "\n",
    "def vector_to_cats(v):\n",
    "    return categories[np.nonzero(v)]\n",
    "\n",
    "def process_cats(cats):\n",
    "    vector_cats = lambda cat : (categories == cat[0]).astype(np.float32)\n",
    "    vector_arr_cats = lambda a : sum([vector_cats(cat) for cat in a])\n",
    "    vectorized = lambda y : [vector_arr_cats(arr) for arr in y]\n",
    "    cap = lambda arr : [el if el < 1 else 1 for el in arr]\n",
    "    \n",
    "    return np.array([cap(el) for el in vectorized(cats)])"
   ]
  },
  {
   "cell_type": "markdown",
   "metadata": {},
   "source": [
    "### Model accuracy on instances that fall into multiple categories"
   ]
  },
  {
   "cell_type": "code",
   "execution_count": 6,
   "metadata": {},
   "outputs": [],
   "source": [
    "def multi_class_accuracy(y_true, y_pred):\n",
    "    num_correct = 0\n",
    "    num_present = 0\n",
    "    for i in range(0, y_true.shape[0]):\n",
    "        v = y_true[i]\n",
    "        if np.count_nonzero(v) > 1:\n",
    "            num_present += 1\n",
    "            if (y_pred[i] == y_true[i]).all():\n",
    "                num_correct += 1\n",
    "                \n",
    "    return num_correct / num_present"
   ]
  },
  {
   "cell_type": "markdown",
   "metadata": {},
   "source": [
    "### Split DataFrame into Train and Test Sets"
   ]
  },
  {
   "cell_type": "code",
   "execution_count": 7,
   "metadata": {},
   "outputs": [],
   "source": [
    "# Splits data with interventions (i.e. for multilabel classification)\n",
    "\n",
    "def split_npi_data(df, oot=True, multilabel=True):\n",
    "    df = df[df['region'] != 'Quebec']\n",
    "    subsets = ['source_full_text', 'start_date']\n",
    "    if multilabel:\n",
    "        subsets.append('oxford_government_response_category')\n",
    "    df['start_date'] = pd.to_datetime(df['start_date'], errors='coerce')\n",
    "    df = df.dropna(subset=subsets)\n",
    "    if oot:\n",
    "        df = df.sort_values(['start_date'])\n",
    "    else:\n",
    "        df = df.sample(frac=1)\n",
    "    \n",
    "    if multilabel:\n",
    "        x_raw = list(text_to_cats(df).keys())\n",
    "        y = list(text_to_cats(df).values())\n",
    "        y = process_cats(y)\n",
    "    else:\n",
    "        x_raw = df['source_full_text']\n",
    "        y = np.array(df['oxford_government_response_category'].notna().astype(np.float))\n",
    "    \n",
    "    return train_test_split(x_raw, y, shuffle=(not oot))"
   ]
  },
  {
   "cell_type": "markdown",
   "metadata": {},
   "source": [
    "### Keywords"
   ]
  },
  {
   "cell_type": "code",
   "execution_count": 8,
   "metadata": {},
   "outputs": [],
   "source": [
    "keywords = ['hospital', 'healthcare', 'vaccine', 'trial', 'clinic', # H\n",
    "            'econom', 'reopen', '$', 'financ', 'financial crisis', 'economic crisis', # E\n",
    "            'social distanc', 'mask', 'isolation', 'quarantine'] # C\n",
    "\n",
    "def apply_keywords(texts, keywords):\n",
    "    transformed_features = []\n",
    "    for word in keywords:\n",
    "        lamb = lambda texts: np.array([[word in document.lower()] for document in texts])\n",
    "        transformed_features.append(lamb(texts))\n",
    "    return transformed_features"
   ]
  },
  {
   "cell_type": "markdown",
   "metadata": {},
   "source": [
    "### Convert Texts to Input Matrix"
   ]
  },
  {
   "cell_type": "code",
   "execution_count": 9,
   "metadata": {},
   "outputs": [],
   "source": [
    "def text_to_topics(texts_list, lda_info=None, n_topics=200, stopword_ext=[], keywords=[]):\n",
    "    if lda_info is None:\n",
    "        x_train_raw = texts_list[0]\n",
    "        lda_info = lda_from_list(x_train_raw, n_topic_range=range(n_topics, n_topics + 1), stopword_extensions=stopword_ext, use_coherence=False, plot=False)\n",
    "    \n",
    "    lda_model = lda_info['best_model']\n",
    "    id2word = lda_info['id2word']\n",
    "    \n",
    "    topic_features = []\n",
    "    keyword_features = []\n",
    "    total_features = []\n",
    "        \n",
    "    # texts_list is a list of lists of documents (list of list of strings)\n",
    "    for texts in texts_list:\n",
    "        topic_vals = lda_preprocess(texts, lda_model, id2word)\n",
    "        topic_features.append(topic_vals)\n",
    "        \n",
    "        if keywords:\n",
    "            keyword_vals = np.concatenate(apply_keywords(texts, keywords), axis=1).astype(np.float)\n",
    "            keyword_features.append(keyword_vals)\n",
    "\n",
    "            total_vals = np.concatenate((topic_vals, keyword_vals), axis=1)\n",
    "            total_features.append(total_vals)\n",
    "   \n",
    "    if not keywords:\n",
    "        total_features = topic_features\n",
    "    total_features.append(lda_info) # For later use\n",
    "    \n",
    "    return total_features"
   ]
  },
  {
   "cell_type": "markdown",
   "metadata": {},
   "source": [
    "### Make Prediction on Unseen Texts"
   ]
  },
  {
   "cell_type": "code",
   "execution_count": 10,
   "metadata": {},
   "outputs": [],
   "source": [
    "def predict(model, new_texts, lda_info, keywords_lambdas=[], stopword_ext=[]):\n",
    "    new_texts_processed, lda_info = text_to_topics([new_texts], lda_info, stopword_ext=stopword_ext, keyword_lambdas=keywords_lambdas)\n",
    "    return model.predict(new_texts_processed)"
   ]
  },
  {
   "cell_type": "markdown",
   "metadata": {},
   "source": [
    "### Model Fitting\n",
    "\n",
    "Essentially a wrapper for Keras' <code>model.fit()</code>, this function streamlines some of the setup, like TensorBoard and early stopping callbacks (pieces of code called at the end of each epoch)."
   ]
  },
  {
   "cell_type": "code",
   "execution_count": 11,
   "metadata": {},
   "outputs": [],
   "source": [
    "def fit_model(model, x_train, y_train, epochs=200, validation_split=None, validation_data=None, log=False, verbose=2, name=''):\n",
    "    import time\n",
    "\n",
    "    root_logdir = os.path.join(os.curdir, \"tb_logs\")\n",
    "    run_id = time.strftime(\"run_%Y_%m_%d-%H_%M_%S\")\n",
    "    run_logdir = os.path.join(root_logdir, run_id + name)\n",
    "    \n",
    "    tensobroad_cb = keras.callbacks.TensorBoard(run_logdir)\n",
    "    early_stop = keras.callbacks.EarlyStopping(patience=20, restore_best_weights=True)\n",
    "    callbacks = [early_stop, tensobroad_cb] if log else [early_stop]\n",
    "    \n",
    "    return model.fit(x_train, y_train, epochs=epochs, validation_split=validation_split, callbacks=callbacks, verbose=verbose, validation_data=validation_data)"
   ]
  },
  {
   "cell_type": "code",
   "execution_count": null,
   "metadata": {
    "scrolled": true
   },
   "outputs": [],
   "source": [
    "ann = Sequential([\n",
    "        Dense(200, name='dense_200', activation='relu'),\n",
    "        Dropout(0.5, name='first_dropout_0.5'),\n",
    "        Dense(80, name='dense_80', activation='relu'),\n",
    "        Dropout(0.5, name='second_dropout_0.5'),\n",
    "        Dense(10, name='dense_10', activation='relu'),\n",
    "        Dense(3, name='output_3', activation='sigmoid')\n",
    "    ])\n",
    "\n",
    "ann.compile(optimizer=Nadam(), loss='binary_crossentropy', metrics=[AUC(curve='roc'), BinaryAccuracy(), Precision(), Recall()])"
   ]
  },
  {
   "cell_type": "code",
   "execution_count": null,
   "metadata": {
    "scrolled": true
   },
   "outputs": [],
   "source": [
    "x_train_raw, x_test_raw, y_train, y_test = split_npi_data(df, oot=True)\n",
    "x_train, x_test, lda_info = text_to_topics((x_train_raw, x_test_raw), n_topics=150, keywords=[])\n",
    "x_train, x_train_raw, y_train = shuffle(x_train, x_train_raw, y_train)"
   ]
  },
  {
   "cell_type": "code",
   "execution_count": null,
   "metadata": {
    "scrolled": false
   },
   "outputs": [],
   "source": [
    "fit_model(ann, x_train, y_train, epochs=200, validation_split=0.2, log=False, name='_updated_final')"
   ]
  },
  {
   "cell_type": "code",
   "execution_count": 15,
   "metadata": {
    "scrolled": true
   },
   "outputs": [
    {
     "name": "stdout",
     "output_type": "stream",
     "text": [
      "8/8 [==============================] - 0s 2ms/step - loss: 0.3545 - auc: 0.9130 - binary_accuracy: 0.8487 - precision: 0.7695 - recall: 0.7849\n"
     ]
    },
    {
     "data": {
      "text/plain": [
       "[0.354482501745224,\n",
       " 0.9130213260650635,\n",
       " 0.8487282395362854,\n",
       " 0.76953125,\n",
       " 0.7848605513572693]"
      ]
     },
     "execution_count": 15,
     "metadata": {},
     "output_type": "execute_result"
    }
   ],
   "source": [
    "ann.evaluate(x_test, y_test)"
   ]
  },
  {
   "cell_type": "code",
   "execution_count": 17,
   "metadata": {},
   "outputs": [
    {
     "data": {
      "text/plain": [
       "(0.7429718875502008, 0.16363636363636364)"
      ]
     },
     "execution_count": 17,
     "metadata": {},
     "output_type": "execute_result"
    }
   ],
   "source": [
    "threshold = 0.5\n",
    "y_pred = (ann.predict(x_test) > threshold).astype(np.float32)\n",
    "x, y = np.concatenate((x_train, x_test), axis=0), np.concatenate((y_train, y_test), axis=0)\n",
    "\n",
    "accuracy_score(y_test, y_pred), multi_class_accuracy(y, (ann.predict(x) > 0.5).astype(np.float32)) # :("
   ]
  },
  {
   "cell_type": "markdown",
   "metadata": {},
   "source": [
    "## Hyperparameter Tuning"
   ]
  },
  {
   "cell_type": "code",
   "execution_count": 18,
   "metadata": {},
   "outputs": [],
   "source": [
    "from numpy.random import choice, random_sample\n",
    "\n",
    "def create_model(**kwargs):\n",
    "    \n",
    "    hidden_layers = kwargs['hidden_layers']\n",
    "    neurons = kwargs['neurons']\n",
    "    activation = kwargs['activation']\n",
    "    \n",
    "    optimizer = kwargs['optimizer']\n",
    "    optimizer.learning_rate = kwargs['learning_rate']\n",
    "    \n",
    "    dropout = kwargs['dropout']\n",
    "    \n",
    "    model = Sequential()\n",
    "    \n",
    "    for _ in range(hidden_layers):\n",
    "        model.add(Dense(neurons, activation=activation))\n",
    "        model.add(Dropout(dropout))\n",
    "    \n",
    "    # Output layer\n",
    "    model.add(Dense(3, activation='sigmoid'))\n",
    "    \n",
    "    model.compile(loss='binary_crossentropy', \n",
    "                  optimizer=optimizer, \n",
    "                  metrics=[BinaryAccuracy(), Precision(), Recall()])\n",
    "    \n",
    "    return model\n",
    "\n",
    "def random_param_search(x_train, x_val, y_train, y_val, iterations=10, top_n=10, **kwargs):\n",
    "    min_losses = np.repeat(np.inf, repeats=top_n)\n",
    "    best_models = []# Fill array with something\n",
    "    best_params = []\n",
    "    \n",
    "    for _ in range(iterations):\n",
    "        params = {}\n",
    "        for key, value in kwargs.items():\n",
    "            params[key] = random_sample() if value == 'uniform' else choice(value)\n",
    "        \n",
    "        model = create_model(**params)\n",
    "        \n",
    "        es = keras.callbacks.EarlyStopping(patience=10, restore_best_weights=True)\n",
    "        try:\n",
    "            # This occasionally produces a bizarre error: https://github.com/keras-team/keras/issues/2967\n",
    "            # NaNs slip into predictions when there are missing values (should not be the case here) or as a result of\n",
    "            # gradient explosion. \n",
    "            model.fit(x_train, y_train, validation_data=(x_val, y_val), epochs=200, callbacks=[es], verbose=0)\n",
    "            loss = model.evaluate(x_val, y_val, return_dict=True, verbose=False)['loss']\n",
    "        except:\n",
    "            print(\"Error caused by parameters\", params)\n",
    "            continue\n",
    "            \n",
    "        if loss < np.max(min_losses):\n",
    "            \n",
    "            ind = np.argmax(min_losses)\n",
    "            min_losses[ind] = loss\n",
    "            \n",
    "            if len(best_models) < top_n:\n",
    "                best_models.append(model)\n",
    "                best_params.append(params)\n",
    "            else:\n",
    "                best_models[ind] = model\n",
    "                best_params[ind] = params\n",
    "        \n",
    "    return best_models, best_params, min_losses"
   ]
  },
  {
   "cell_type": "code",
   "execution_count": null,
   "metadata": {
    "scrolled": false
   },
   "outputs": [],
   "source": [
    "fit_model(rnd_search, x_train, y_train, validation_split=0.2, verbose=0)\n",
    "# y_pred = (rnd_search.predict_proba(x_test) > 0.5).astype(np.int)\n",
    "rnd_search.best_params_"
   ]
  },
  {
   "cell_type": "code",
   "execution_count": 26,
   "metadata": {
    "scrolled": false
   },
   "outputs": [],
   "source": [
    "# %%time\n",
    "# df_2019 = load_all(start_date=datetime(2019, 10, 1), end_date=datetime(2019, 11, 1), verbose=True)\n",
    "# df_2019.to_csv('2019_oct_releases.csv')"
   ]
  },
  {
   "cell_type": "code",
   "execution_count": 23,
   "metadata": {},
   "outputs": [],
   "source": [
    "df_2019 = pd.read_csv('2019_oct_releases.csv')\n",
    "df_2019['start_date'] = pd.to_datetime(df_2019['start_date'])"
   ]
  },
  {
   "cell_type": "code",
   "execution_count": null,
   "metadata": {},
   "outputs": [],
   "source": [
    "df_2019 = df_2019[df_2019['start_date'] <= datetime(2020, 1, 1)]\n",
    "df_2019 = df_2019[df_2019['region'] != 'Quebec']\n",
    "full_df = df_2019.append(pos_df).sample(frac=1)\n",
    "x_train_raw, x_test_raw, y_train, y_test = split_npi_data(full_df, multilabel=False, oot=False)\n",
    "x_train, x_test, lda_info = text_to_topics((x_train_raw, x_test_raw), lda_info=lda_info, n_topics=150)\n",
    "x_train, y_train = shuffle(x_train, y_train)"
   ]
  },
  {
   "cell_type": "code",
   "execution_count": 34,
   "metadata": {},
   "outputs": [
    {
     "name": "stdout",
     "output_type": "stream",
     "text": [
      "RND_CLF\n",
      "Accuracy 0.8859060402684564\n",
      "Precision 0.9188405797101449\n",
      "Recall 0.8879551820728291\n",
      "\n",
      "\n",
      "LIN_SVC_CLF\n",
      "Accuracy 0.7869127516778524\n",
      "Precision 0.8362573099415205\n",
      "Recall 0.8011204481792717\n",
      "\n",
      "\n",
      "RBF_SVC_CLF\n",
      "Accuracy 0.8758389261744967\n",
      "Precision 0.9077809798270894\n",
      "Recall 0.8823529411764706\n",
      "\n",
      "\n",
      "KNN_CLF\n",
      "Accuracy 0.8154362416107382\n",
      "Precision 0.8559077809798271\n",
      "Recall 0.8319327731092437\n",
      "\n",
      "\n",
      "LOG_CLF\n",
      "Accuracy 0.7399328859060402\n",
      "Precision 0.7563451776649747\n",
      "Recall 0.834733893557423\n",
      "\n",
      "\n",
      "XGB_CLF\n",
      "Accuracy 0.87248322147651\n",
      "Precision 0.9048991354466859\n",
      "Recall 0.8795518207282913\n",
      "\n",
      "\n"
     ]
    }
   ],
   "source": [
    "models = {\n",
    "    'rnd_clf' : RandomForestClassifier(n_estimators=400, max_depth=80, warm_start=True),\n",
    "    'lin_svc_clf' : LinearSVC(),\n",
    "    'rbf_svc_clf' : SVC(kernel='rbf'),\n",
    "    'knn_clf' : KNeighborsClassifier(),\n",
    "    'log_clf' : LogisticRegression(),\n",
    "    'xgb_clf' : XGBClassifier()\n",
    "}\n",
    "\n",
    "metrics = {\n",
    "    'Accuracy' : accuracy_score,\n",
    "    'Precision' : precision_score,\n",
    "    'Recall' : recall_score\n",
    "#     'ROC AUC' : roc_auc_score\n",
    "}\n",
    "\n",
    "for name, model in models.items():\n",
    "    model.fit(x_train, y_train)\n",
    "    print(name.upper())\n",
    "    for metric, metric_func in metrics.items():\n",
    "        print(metric, metric_func(y_test, model.predict(x_test)))\n",
    "    print('\\n')"
   ]
  },
  {
   "cell_type": "code",
   "execution_count": 35,
   "metadata": {},
   "outputs": [
    {
     "data": {
      "image/png": "[encoded data removed]",
      "text/plain": [
       "<Figure size 432x288 with 1 Axes>"
      ]
     },
     "metadata": {
      "needs_background": "light"
     },
     "output_type": "display_data"
    },
    {
     "data": {
      "image/png": "[encoded data removed]",
      "text/plain": [
       "<Figure size 432x288 with 1 Axes>"
      ]
     },
     "metadata": {
      "needs_background": "light"
     },
     "output_type": "display_data"
    },
    {
     "data": {
      "image/png": "[encoded data removed]",
      "text/plain": [
       "<Figure size 432x288 with 1 Axes>"
      ]
     },
     "metadata": {
      "needs_background": "light"
     },
     "output_type": "display_data"
    },
    {
     "data": {
      "image/png": "[encoded data removed]",
      "text/plain": [
       "<Figure size 432x288 with 1 Axes>"
      ]
     },
     "metadata": {
      "needs_background": "light"
     },
     "output_type": "display_data"
    },
    {
     "data": {
      "image/png": "[encoded data removed]",
      "text/plain": [
       "<Figure size 432x288 with 1 Axes>"
      ]
     },
     "metadata": {
      "needs_background": "light"
     },
     "output_type": "display_data"
    },
    {
     "data": {
      "image/png": "[encoded data removed]",
      "text/plain": [
       "<Figure size 432x288 with 1 Axes>"
      ]
     },
     "metadata": {
      "needs_background": "light"
     },
     "output_type": "display_data"
    }
   ],
   "source": [
    "from sklearn.metrics import plot_precision_recall_curve\n",
    "\n",
    "for name, model in models.items():\n",
    "    disp = plot_precision_recall_curve(model, x_test, y_test)\n",
    "    disp.ax_.set_title(name.upper())"
   ]
  },
  {
   "cell_type": "code",
   "execution_count": 36,
   "metadata": {},
   "outputs": [
    {
     "data": {
      "text/plain": [
       "['models/binary_rnd_clf']"
      ]
     },
     "execution_count": 36,
     "metadata": {},
     "output_type": "execute_result"
    }
   ],
   "source": [
    "rnd_clf = models['rnd_clf']\n",
    "lda = lda_info['best_model']\n",
    "\n",
    "joblib.dump(rnd_clf, 'models/binary_rnd_clf')\n",
    "\n",
    "ann.save('models/multilabel_ann')\n",
    "lda.save('models/lda')"
   ]
  }
 ],
 "metadata": {
  "kernelspec": {
   "display_name": "Python 3.8.2 64-bit",
   "language": "python",
   "name": "python38264bitb7deb3926a5743b595e3b44ad861ac00"
  },
  "language_info": {
   "codemirror_mode": {
    "name": "ipython",
    "version": 3
   },
   "file_extension": ".py",
   "mimetype": "text/x-python",
   "name": "python",
   "nbconvert_exporter": "python",
   "pygments_lexer": "ipython3",
   "version": "3.8.2"
  }
 },
 "nbformat": 4,
 "nbformat_minor": 4
}
