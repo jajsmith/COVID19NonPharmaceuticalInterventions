{
 "cells": [
  {
   "cell_type": "code",
   "execution_count": 7,
   "metadata": {},
   "outputs": [],
   "source": [
    "from source_scraping import *"
   ]
  },
  {
   "cell_type": "code",
   "execution_count": 8,
   "metadata": {},
   "outputs": [
    {
     "data": {
      "text/plain": [
       "(4173, 35)"
      ]
     },
     "execution_count": 8,
     "metadata": {},
     "output_type": "execute_result"
    }
   ],
   "source": [
    "manual_df = pd.read_csv('SCHEMA UPDATE - Collecting NPIs Effects - FULL.csv')\n",
    "manual_df.shape"
   ]
  },
  {
   "cell_type": "code",
   "execution_count": null,
   "metadata": {},
   "outputs": [],
   "source": [
    "province_df = load_all(verbose=True)"
   ]
  },
  {
   "cell_type": "markdown",
   "metadata": {},
   "source": [
    "### Comparing the Number of Recorded Articles Automatically and Manually"
   ]
  },
  {
   "cell_type": "code",
   "execution_count": 34,
   "metadata": {},
   "outputs": [
    {
     "name": "stdout",
     "output_type": "stream",
     "text": [
      "Ontario's autosource to manual ratio: 0.103\n",
      "Quebec's autosource to manual ratio: 7.474\n",
      "Manitoba's autosource to manual ratio: 1.251\n",
      "Nova Scotia's autosource to manual ratio: 1.542\n",
      "Newfoundland and Labrador's autosource to manual ratio: 7.195\n",
      "New Brunswick's autosource to manual ratio: 1.177\n",
      "Northwest Territories's autosource to manual ratio: 2.104\n",
      "Nunavut's autosource to manual ratio: 0.682\n",
      "Alberta's autosource to manual ratio: 3.675\n",
      "Prince Edward Island's autosource to manual ratio: 1.347\n",
      "Saskatchewan's autosource to manual ratio: 1.871\n",
      "Yukon's autosource to manual ratio: 1.35\n",
      "British Columbia's autosource to manual ratio: 1.851\n"
     ]
    }
   ],
   "source": [
    "province_df = province_df[province_df['start_date'] < datetime(2020, 7, 7)]\n",
    "\n",
    "provinces = ['Ontario',\n",
    "            'Quebec', \n",
    "            'Manitoba',\n",
    "            'Nova Scotia',\n",
    "            'Newfoundland',\n",
    "            'New Brunswick',\n",
    "            'Northwest Territories',\n",
    "            'Nunavut',\n",
    "            'Alberta',\n",
    "            'Prince Edward Island',\n",
    "            'Saskatchewan',\n",
    "            'Yukon',\n",
    "            'British Columbia']\n",
    "\n",
    "for province in provinces:\n",
    "    auto = province_df[province_df['region'] == province]\n",
    "    if province == 'Newfoundland': # Accounts for naming discrepancy between autosource CSVs and SCHEMA... csv\n",
    "        province = 'Newfoundland and Labrador'\n",
    "    manual = manual_df[manual_df['region'] == province]\n",
    "    auto_len = len(auto)\n",
    "    manual_len = len(manual)\n",
    "    if manual_len == 0:\n",
    "        print('No manually recorded articles for ' + province)\n",
    "        continue\n",
    "    print(province + \"'s autosource to manual ratio: \" + str(round(auto_len / manual_len, 3)))"
   ]
  },
  {
   "cell_type": "markdown",
   "metadata": {},
   "source": [
    "### Comparing the Number of Articles with Oxford Classifications to the Number of Articles Recorded Automatically"
   ]
  },
  {
   "cell_type": "code",
   "execution_count": 35,
   "metadata": {},
   "outputs": [
    {
     "name": "stdout",
     "output_type": "stream",
     "text": [
      "Ontario's autosource to manual and flagged ratio: 0.285\n",
      "Quebec's autosource to manual and flagged ratio: 13.103\n",
      "Manitoba's autosource to manual and flagged ratio: 4.131\n",
      "Nova Scotia's autosource to manual and flagged ratio: 5.806\n",
      "Newfoundland and Labrador's autosource to manual and flagged ratio: 18.97\n",
      "New Brunswick's autosource to manual and flagged ratio: 1.907\n",
      "Northwest Territories's autosource to manual and flagged ratio: 3.737\n",
      "Nunavut's autosource to manual and flagged ratio: 1.364\n",
      "Alberta's autosource to manual and flagged ratio: 9.617\n",
      "Prince Edward Island's autosource to manual and flagged ratio: 2.694\n",
      "Saskatchewan's autosource to manual and flagged ratio: 4.707\n",
      "Yukon's autosource to manual and flagged ratio: 6.75\n",
      "British Columbia's autosource to manual and flagged ratio: 3.301\n"
     ]
    }
   ],
   "source": [
    "for province in provinces:\n",
    "    auto = province_df[province_df['region'] == province]\n",
    "    manual = manual_df.dropna(subset=['oxford_government_response_category'])\n",
    "    if province == 'Newfoundland': # Accounts for naming discrepancy between autosource CSVs and SCHEMA... csv\n",
    "        province = 'Newfoundland and Labrador'\n",
    "    manual = manual[manual['region'] == province]\n",
    "    auto_len = len(auto)\n",
    "    manual_len = len(manual)\n",
    "    if manual_len == 0:\n",
    "        print('No manually flagged articles for ' + province)\n",
    "        continue\n",
    "    print(province + \"'s autosource to manual and flagged ratio: \" + str(round(auto_len / manual_len, 3)))"
   ]
  }
 ],
 "metadata": {
  "kernelspec": {
   "display_name": "Python 3.8.2 64-bit",
   "language": "python",
   "name": "python38264bitb7deb3926a5743b595e3b44ad861ac00"
  }
 },
 "nbformat": 4,
 "nbformat_minor": 4
}
